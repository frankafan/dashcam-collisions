{
 "cells": [
  {
   "cell_type": "code",
   "execution_count": 1,
   "metadata": {},
   "outputs": [],
   "source": [
    "import pandas as pd\n",
    "import re\n",
    "from sklearn.metrics import accuracy_score, confusion_matrix, classification_report"
   ]
  },
  {
   "cell_type": "code",
   "execution_count": 2,
   "metadata": {},
   "outputs": [],
   "source": [
    "file_name = \"llama_3.2_val_results_20250402_210322.csv\"\n",
    "\n",
    "df = pd.read_csv(file_name)"
   ]
  },
  {
   "cell_type": "code",
   "execution_count": 3,
   "metadata": {},
   "outputs": [],
   "source": [
    "def convert_target(value):\n",
    "    if isinstance(value, str):\n",
    "        match = re.search(r\"tensor\\((\\d)\\.\", value)\n",
    "        return int(match.group(1)) if match else None\n",
    "    elif isinstance(value, (int, float)):\n",
    "        return int(value)\n",
    "    return None\n",
    "\n",
    "\n",
    "df[\"target\"] = df[\"target\"].apply(convert_target)"
   ]
  },
  {
   "cell_type": "code",
   "execution_count": 4,
   "metadata": {},
   "outputs": [],
   "source": [
    "def extract_answer_and_predict(response):\n",
    "    matches = re.findall(r\"<answer>(.*?)</answer>\", response, re.IGNORECASE | re.DOTALL)\n",
    "    answer_text = matches[-1].strip() if matches else \"\"\n",
    "    prediction = 1 if \"yes\" in answer_text.lower() else 0\n",
    "    return answer_text, prediction\n",
    "\n",
    "\n",
    "df[[\"extracted_answer\", \"predicted_label\"]] = df[\"response\"].apply(\n",
    "    lambda x: pd.Series(extract_answer_and_predict(x))\n",
    ")"
   ]
  },
  {
   "cell_type": "code",
   "execution_count": 5,
   "metadata": {},
   "outputs": [
    {
     "data": {
      "text/html": [
       "<div>\n",
       "<style scoped>\n",
       "    .dataframe tbody tr th:only-of-type {\n",
       "        vertical-align: middle;\n",
       "    }\n",
       "\n",
       "    .dataframe tbody tr th {\n",
       "        vertical-align: top;\n",
       "    }\n",
       "\n",
       "    .dataframe thead th {\n",
       "        text-align: right;\n",
       "    }\n",
       "</style>\n",
       "<table border=\"1\" class=\"dataframe\">\n",
       "  <thead>\n",
       "    <tr style=\"text-align: right;\">\n",
       "      <th></th>\n",
       "      <th>id</th>\n",
       "      <th>target</th>\n",
       "      <th>response</th>\n",
       "      <th>timestamp</th>\n",
       "      <th>extracted_answer</th>\n",
       "      <th>predicted_label</th>\n",
       "    </tr>\n",
       "  </thead>\n",
       "  <tbody>\n",
       "    <tr>\n",
       "      <th>0</th>\n",
       "      <td>1339.0</td>\n",
       "      <td>0</td>\n",
       "      <td>user\\n\\n\\nYou are an expert in accident recons...</td>\n",
       "      <td>2025-04-02 18:25:52</td>\n",
       "      <td>No</td>\n",
       "      <td>0</td>\n",
       "    </tr>\n",
       "    <tr>\n",
       "      <th>1</th>\n",
       "      <td>168.0</td>\n",
       "      <td>1</td>\n",
       "      <td>user\\n\\n\\nYou are an expert in accident recons...</td>\n",
       "      <td>2025-04-02 18:26:03</td>\n",
       "      <td>No</td>\n",
       "      <td>0</td>\n",
       "    </tr>\n",
       "    <tr>\n",
       "      <th>2</th>\n",
       "      <td>813.0</td>\n",
       "      <td>1</td>\n",
       "      <td>user\\n\\n\\nYou are an expert in accident recons...</td>\n",
       "      <td>2025-04-02 18:26:38</td>\n",
       "      <td>No</td>\n",
       "      <td>0</td>\n",
       "    </tr>\n",
       "    <tr>\n",
       "      <th>3</th>\n",
       "      <td>1088.0</td>\n",
       "      <td>0</td>\n",
       "      <td>user\\n\\n\\nYou are an expert in accident recons...</td>\n",
       "      <td>2025-04-02 18:27:12</td>\n",
       "      <td>No</td>\n",
       "      <td>0</td>\n",
       "    </tr>\n",
       "    <tr>\n",
       "      <th>4</th>\n",
       "      <td>1197.0</td>\n",
       "      <td>0</td>\n",
       "      <td>user\\n\\n\\nYou are an expert in accident recons...</td>\n",
       "      <td>2025-04-02 18:27:45</td>\n",
       "      <td>No</td>\n",
       "      <td>0</td>\n",
       "    </tr>\n",
       "    <tr>\n",
       "      <th>...</th>\n",
       "      <td>...</td>\n",
       "      <td>...</td>\n",
       "      <td>...</td>\n",
       "      <td>...</td>\n",
       "      <td>...</td>\n",
       "      <td>...</td>\n",
       "    </tr>\n",
       "    <tr>\n",
       "      <th>295</th>\n",
       "      <td>1792.0</td>\n",
       "      <td>0</td>\n",
       "      <td>user\\n\\n\\nYou are an expert in accident recons...</td>\n",
       "      <td>2025-04-02 21:01:23</td>\n",
       "      <td>No</td>\n",
       "      <td>0</td>\n",
       "    </tr>\n",
       "    <tr>\n",
       "      <th>296</th>\n",
       "      <td>171.0</td>\n",
       "      <td>1</td>\n",
       "      <td>user\\n\\n\\nYou are an expert in accident recons...</td>\n",
       "      <td>2025-04-02 21:01:56</td>\n",
       "      <td>No</td>\n",
       "      <td>0</td>\n",
       "    </tr>\n",
       "    <tr>\n",
       "      <th>297</th>\n",
       "      <td>904.0</td>\n",
       "      <td>1</td>\n",
       "      <td>user\\n\\n\\nYou are an expert in accident recons...</td>\n",
       "      <td>2025-04-02 21:02:28</td>\n",
       "      <td>No</td>\n",
       "      <td>0</td>\n",
       "    </tr>\n",
       "    <tr>\n",
       "      <th>298</th>\n",
       "      <td>667.0</td>\n",
       "      <td>1</td>\n",
       "      <td>user\\n\\n\\nYou are an expert in accident recons...</td>\n",
       "      <td>2025-04-02 21:03:01</td>\n",
       "      <td>No</td>\n",
       "      <td>0</td>\n",
       "    </tr>\n",
       "    <tr>\n",
       "      <th>299</th>\n",
       "      <td>607.0</td>\n",
       "      <td>1</td>\n",
       "      <td>user\\n\\n\\nYou are an expert in accident recons...</td>\n",
       "      <td>2025-04-02 21:03:22</td>\n",
       "      <td>No</td>\n",
       "      <td>0</td>\n",
       "    </tr>\n",
       "  </tbody>\n",
       "</table>\n",
       "<p>300 rows × 6 columns</p>\n",
       "</div>"
      ],
      "text/plain": [
       "         id  target                                           response  \\\n",
       "0    1339.0       0  user\\n\\n\\nYou are an expert in accident recons...   \n",
       "1     168.0       1  user\\n\\n\\nYou are an expert in accident recons...   \n",
       "2     813.0       1  user\\n\\n\\nYou are an expert in accident recons...   \n",
       "3    1088.0       0  user\\n\\n\\nYou are an expert in accident recons...   \n",
       "4    1197.0       0  user\\n\\n\\nYou are an expert in accident recons...   \n",
       "..      ...     ...                                                ...   \n",
       "295  1792.0       0  user\\n\\n\\nYou are an expert in accident recons...   \n",
       "296   171.0       1  user\\n\\n\\nYou are an expert in accident recons...   \n",
       "297   904.0       1  user\\n\\n\\nYou are an expert in accident recons...   \n",
       "298   667.0       1  user\\n\\n\\nYou are an expert in accident recons...   \n",
       "299   607.0       1  user\\n\\n\\nYou are an expert in accident recons...   \n",
       "\n",
       "               timestamp extracted_answer  predicted_label  \n",
       "0    2025-04-02 18:25:52               No                0  \n",
       "1    2025-04-02 18:26:03               No                0  \n",
       "2    2025-04-02 18:26:38               No                0  \n",
       "3    2025-04-02 18:27:12               No                0  \n",
       "4    2025-04-02 18:27:45               No                0  \n",
       "..                   ...              ...              ...  \n",
       "295  2025-04-02 21:01:23               No                0  \n",
       "296  2025-04-02 21:01:56               No                0  \n",
       "297  2025-04-02 21:02:28               No                0  \n",
       "298  2025-04-02 21:03:01               No                0  \n",
       "299  2025-04-02 21:03:22               No                0  \n",
       "\n",
       "[300 rows x 6 columns]"
      ]
     },
     "execution_count": 5,
     "metadata": {},
     "output_type": "execute_result"
    }
   ],
   "source": [
    "df"
   ]
  },
  {
   "cell_type": "code",
   "execution_count": 6,
   "metadata": {},
   "outputs": [
    {
     "data": {
      "text/plain": [
       "0.5466666666666666"
      ]
     },
     "execution_count": 6,
     "metadata": {},
     "output_type": "execute_result"
    }
   ],
   "source": [
    "accuracy = accuracy_score(df[\"target\"], df[\"predicted_label\"])\n",
    "accuracy"
   ]
  },
  {
   "cell_type": "code",
   "execution_count": 7,
   "metadata": {},
   "outputs": [
    {
     "data": {
      "text/plain": [
       "(array([[150,   0],\n",
       "        [136,  14]]),\n",
       " {'0': {'precision': 0.5244755244755245,\n",
       "   'recall': 1.0,\n",
       "   'f1-score': 0.6880733944954128,\n",
       "   'support': 150.0},\n",
       "  '1': {'precision': 1.0,\n",
       "   'recall': 0.09333333333333334,\n",
       "   'f1-score': 0.17073170731707318,\n",
       "   'support': 150.0},\n",
       "  'accuracy': 0.5466666666666666,\n",
       "  'macro avg': {'precision': 0.7622377622377623,\n",
       "   'recall': 0.5466666666666666,\n",
       "   'f1-score': 0.429402550906243,\n",
       "   'support': 300.0},\n",
       "  'weighted avg': {'precision': 0.7622377622377622,\n",
       "   'recall': 0.5466666666666666,\n",
       "   'f1-score': 0.4294025509062431,\n",
       "   'support': 300.0}})"
      ]
     },
     "execution_count": 7,
     "metadata": {},
     "output_type": "execute_result"
    }
   ],
   "source": [
    "conf_matrix = confusion_matrix(df[\"target\"], df[\"predicted_label\"])\n",
    "class_report = classification_report(\n",
    "    df[\"target\"], df[\"predicted_label\"], output_dict=True\n",
    ")\n",
    "\n",
    "conf_matrix, class_report"
   ]
  }
 ],
 "metadata": {
  "kernelspec": {
   "display_name": ".venv",
   "language": "python",
   "name": "python3"
  },
  "language_info": {
   "codemirror_mode": {
    "name": "ipython",
    "version": 3
   },
   "file_extension": ".py",
   "mimetype": "text/x-python",
   "name": "python",
   "nbconvert_exporter": "python",
   "pygments_lexer": "ipython3",
   "version": "3.11.2"
  }
 },
 "nbformat": 4,
 "nbformat_minor": 2
}
