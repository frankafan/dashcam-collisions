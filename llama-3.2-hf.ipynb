{
  "cells": [
    {
      "cell_type": "code",
      "execution_count": null,
      "metadata": {
        "id": "4zJxS-heAhtT"
      },
      "outputs": [],
      "source": [
        "!git config --global credential.helper store\n",
        "!huggingface-cli login"
      ]
    },
    {
      "cell_type": "code",
      "execution_count": null,
      "metadata": {
        "id": "SIp_6dmwBJBW"
      },
      "outputs": [],
      "source": [
        "# Use a pipeline as a high-level helper\n",
        "from transformers import pipeline\n",
        "\n",
        "pipe = pipeline(\"image-text-to-text\", model=\"meta-llama/Llama-3.2-11B-Vision\")"
      ]
    },
    {
      "cell_type": "code",
      "execution_count": null,
      "metadata": {
        "id": "8A1R39tcBLy9"
      },
      "outputs": [],
      "source": [
        "# Load model directly\n",
        "from transformers import AutoProcessor, AutoModelForImageTextToText\n",
        "\n",
        "processor = AutoProcessor.from_pretrained(\"meta-llama/Llama-3.2-11B-Vision\")\n",
        "model = AutoModelForImageTextToText.from_pretrained(\"meta-llama/Llama-3.2-11B-Vision\")"
      ]
    }
  ],
  "metadata": {
    "colab": {
      "provenance": [],
      "toc_visible": true
    },
    "kernelspec": {
      "display_name": "Python 3",
      "name": "python3"
    },
    "language_info": {
      "name": "python"
    }
  },
  "nbformat": 4,
  "nbformat_minor": 0
}
