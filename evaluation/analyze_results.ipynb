{
 "cells": [
  {
   "cell_type": "code",
   "execution_count": null,
   "metadata": {},
   "outputs": [],
   "source": [
    "!pip install -q pandas numpy matplotlib seaborn"
   ]
  },
  {
   "cell_type": "markdown",
   "metadata": {},
   "source": [
    "# Analysis of Evaluation Results\n",
    "\n",
    "This notebook analyzes the results from the evaluation of different models, with special focus on converting tensor data to numerical values."
   ]
  },
  {
   "cell_type": "code",
   "execution_count": 2,
   "metadata": {},
   "outputs": [],
   "source": [
    "# Import required libraries\n",
    "import pandas as pd\n",
    "import matplotlib.pyplot as plt\n",
    "import seaborn as sns\n",
    "import numpy as np\n",
    "import ast\n",
    "import re\n",
    "\n",
    "# Set style for better visualizations\n",
    "sns.set_theme()\n",
    "sns.set_palette('husl')"
   ]
  },
  {
   "cell_type": "code",
   "execution_count": null,
   "metadata": {},
   "outputs": [],
   "source": [
    "results_path = \"llama_3.2_11B_20250422_052647/results.csv\"\n",
    "df = pd.read_csv(results_path)\n",
    "\n",
    "\n",
    "# Function to convert tensor string to number\n",
    "def convert_tensor_to_number(tensor_str):\n",
    "    try:\n",
    "        # First try to find a number in the format tensor(number, dtype=...)\n",
    "        match = re.search(r\"tensor\\(([-+]?\\d*\\.?\\d+),\", tensor_str)\n",
    "        if match:\n",
    "            return float(match.group(1))\n",
    "\n",
    "        # If that doesn't work, try to find any number in the string\n",
    "        numbers = re.findall(r\"[-+]?\\d*\\.?\\d+\", tensor_str)\n",
    "        if numbers:\n",
    "            return float(numbers[0])\n",
    "\n",
    "        return np.nan\n",
    "    except:\n",
    "        return np.nan\n",
    "\n",
    "\n",
    "# Convert extracted_label column\n",
    "df[\"extracted_label_numeric\"] = df[\"extracted_label\"].apply(convert_tensor_to_number)\n",
    "\n",
    "# Display basic information about the dataset\n",
    "print(\"Dataset Info:\")\n",
    "print(\"-\" * 50)\n",
    "print(f\"Number of rows: {len(df)}\")\n",
    "print(f\"Number of columns: {len(df.columns)}\")\n",
    "print(\"\\nColumns in the dataset:\")\n",
    "print(df.columns.tolist())\n",
    "print(\"\\nFirst few rows:\")\n",
    "df.head()"
   ]
  },
  {
   "cell_type": "code",
   "execution_count": null,
   "metadata": {},
   "outputs": [],
   "source": [
    "# Basic statistics of the converted numeric labels\n",
    "print(\"Statistics of Extracted Labels:\")\n",
    "print(\"-\" * 50)\n",
    "print(df['extracted_label_numeric'].describe())\n",
    "\n",
    "# Check for any conversion errors\n",
    "print(\"\\nNumber of failed conversions:\")\n",
    "print(df['extracted_label_numeric'].isna().sum())"
   ]
  },
  {
   "cell_type": "code",
   "execution_count": null,
   "metadata": {},
   "outputs": [],
   "source": [
    "# Create visualizations for the extracted labels\n",
    "plt.figure(figsize=(15, 10))\n",
    "\n",
    "# Plot 1: Distribution of extracted labels\n",
    "plt.subplot(2, 2, 1)\n",
    "sns.histplot(data=df, x='extracted_label_numeric', bins=30)\n",
    "plt.title('Distribution of Extracted Labels')\n",
    "\n",
    "# Plot 2: Box plot of extracted labels\n",
    "plt.subplot(2, 2, 2)\n",
    "sns.boxplot(data=df, y='extracted_label_numeric')\n",
    "plt.title('Box Plot of Extracted Labels')\n",
    "\n",
    "# Plot 3: Time series of extracted labels\n",
    "plt.subplot(2, 2, 3)\n",
    "df['timestamp'] = pd.to_datetime(df['timestamp'])\n",
    "df.set_index('timestamp')['extracted_label_numeric'].plot()\n",
    "plt.title('Extracted Labels Over Time')\n",
    "\n",
    "# Plot 4: Scatter plot of time between frames vs extracted label\n",
    "plt.subplot(2, 2, 4)\n",
    "sns.scatterplot(data=df, x='time_between_frames', y='extracted_label_numeric')\n",
    "plt.title('Time Between Frames vs Extracted Label')\n",
    "\n",
    "plt.tight_layout()\n",
    "plt.show()"
   ]
  },
  {
   "cell_type": "code",
   "execution_count": null,
   "metadata": {},
   "outputs": [],
   "source": [
    "# Additional analysis: Compare target vs extracted label\n",
    "if 'target' in df.columns:\n",
    "    # Convert target to numeric if it's not already\n",
    "    df['target_numeric'] = pd.to_numeric(df['target'], errors='coerce')\n",
    "    \n",
    "    plt.figure(figsize=(10, 6))\n",
    "    plt.scatter(df['target_numeric'], df['extracted_label_numeric'], alpha=0.5)\n",
    "    plt.plot([df['target_numeric'].min(), df['target_numeric'].max()], \n",
    "             [df['target_numeric'].min(), df['target_numeric'].max()], \n",
    "             'r--', label='Perfect Prediction')\n",
    "    plt.xlabel('Target Value')\n",
    "    plt.ylabel('Extracted Label')\n",
    "    plt.title('Target vs Extracted Label')\n",
    "    plt.legend()\n",
    "    plt.show()\n",
    "    \n",
    "    # Calculate error metrics\n",
    "    mae = np.mean(np.abs(df['target_numeric'] - df['extracted_label_numeric']))\n",
    "    rmse = np.sqrt(np.mean((df['target_numeric'] - df['extracted_label_numeric'])**2))\n",
    "    \n",
    "    print(f\"Mean Absolute Error: {mae:.4f}\")\n",
    "    print(f\"Root Mean Square Error: {rmse:.4f}\")"
   ]
  }
 ],
 "metadata": {
  "kernelspec": {
   "display_name": "Python 3",
   "language": "python",
   "name": "python3"
  },
  "language_info": {
   "codemirror_mode": {
    "name": "ipython",
    "version": 3
   },
   "file_extension": ".py",
   "mimetype": "text/x-python",
   "name": "python",
   "nbconvert_exporter": "python",
   "pygments_lexer": "ipython3",
   "version": "3.11.9"
  }
 },
 "nbformat": 4,
 "nbformat_minor": 4
}
