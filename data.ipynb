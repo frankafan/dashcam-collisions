{
 "cells": [
  {
   "cell_type": "code",
   "execution_count": 1,
   "metadata": {},
   "outputs": [],
   "source": [
    "DATA_DIR = \"data\""
   ]
  },
  {
   "cell_type": "code",
   "execution_count": null,
   "metadata": {},
   "outputs": [],
   "source": [
    "%pip install -q --upgrade kaggle"
   ]
  },
  {
   "cell_type": "code",
   "execution_count": null,
   "metadata": {},
   "outputs": [],
   "source": [
    "from dotenv import load_dotenv\n",
    "from kaggle.api.kaggle_api_extended import KaggleApi\n",
    "import os\n",
    "\n",
    "load_dotenv()"
   ]
  },
  {
   "cell_type": "code",
   "execution_count": 27,
   "metadata": {},
   "outputs": [],
   "source": [
    "def list_competition_files(competition_name):\n",
    "    \"\"\"\n",
    "    Retrieves a list of all files available in a Kaggle competition using the Kaggle API.\n",
    "\n",
    "    Args:\n",
    "        competition_name (str): The name or ID of the Kaggle competition.\n",
    "    Returns:\n",
    "        list: A list of Kaggle API file objects containing information about each file\n",
    "              in the competition, including name, size, creation date, etc.\n",
    "    \"\"\"\n",
    "    api = KaggleApi()\n",
    "    api.authenticate()\n",
    "\n",
    "    all_files = []\n",
    "    page_token = None\n",
    "    page_size = 1000\n",
    "\n",
    "    while True:\n",
    "        response = api.competitions_data_list_files(\n",
    "            competition_name, page_token=page_token, page_size=page_size\n",
    "        )\n",
    "        files = response.files\n",
    "        all_files.extend(files)\n",
    "\n",
    "        page_token = response.nextPageToken\n",
    "        if not page_token:\n",
    "            break\n",
    "    return all_files\n",
    "\n",
    "\n",
    "def download_kaggle_competition(competition, path=DATA_DIR):\n",
    "    api = KaggleApi()\n",
    "    api.authenticate()\n",
    "    api.competition_download_files(competition, path=path, force=False, quiet=False)"
   ]
  },
  {
   "cell_type": "code",
   "execution_count": null,
   "metadata": {},
   "outputs": [],
   "source": [
    "download_kaggle_competition(competition=\"nexar-collision-prediction\")"
   ]
  }
 ],
 "metadata": {
  "kernelspec": {
   "display_name": "Python 3",
   "language": "python",
   "name": "python3"
  },
  "language_info": {
   "codemirror_mode": {
    "name": "ipython",
    "version": 3
   },
   "file_extension": ".py",
   "mimetype": "text/x-python",
   "name": "python",
   "nbconvert_exporter": "python",
   "pygments_lexer": "ipython3",
   "version": "3.11.9"
  }
 },
 "nbformat": 4,
 "nbformat_minor": 2
}
