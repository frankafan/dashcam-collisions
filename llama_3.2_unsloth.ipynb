{
  "cells": [
    {
      "cell_type": "code",
      "execution_count": null,
      "metadata": {
        "colab": {
          "base_uri": "https://localhost:8080/"
        },
        "id": "WCe3vc8NQ4T3",
        "outputId": "5c455d0a-0c7f-4bab-f192-743c110410dd"
      },
      "outputs": [],
      "source": [
        "from google.colab import drive\n",
        "\n",
        "drive.mount(\"/content/drive\")"
      ]
    },
    {
      "cell_type": "code",
      "execution_count": null,
      "metadata": {
        "id": "XA5e_XLsRa7n"
      },
      "outputs": [],
      "source": [
        "import os\n",
        "import pandas as pd\n",
        "from PIL import Image\n",
        "import torch\n",
        "from torch.utils.data import Dataset\n",
        "from torchvision import transforms\n",
        "from torch.utils.data import DataLoader"
      ]
    },
    {
      "cell_type": "code",
      "execution_count": null,
      "metadata": {
        "colab": {
          "base_uri": "https://localhost:8080/",
          "height": 206
        },
        "id": "nd-sA9xeRZTK",
        "outputId": "7666a73c-2e56-427a-ea76-8e92f0682265"
      },
      "outputs": [],
      "source": [
        "PROJECT_DIR = \"nexcar-challenge\"\n",
        "DATA_DIR = \"data\"\n",
        "\n",
        "train_csv_path = f\"/content/drive/MyDrive/{PROJECT_DIR}/{DATA_DIR}/train.csv\"\n",
        "train_videos_folder = f\"/content/drive/MyDrive/{PROJECT_DIR}/{DATA_DIR}/train/\"\n",
        "\n",
        "df = pd.read_csv(train_csv_path)\n",
        "df.head()"
      ]
    },
    {
      "cell_type": "code",
      "execution_count": null,
      "metadata": {
        "colab": {
          "base_uri": "https://localhost:8080/",
          "height": 339
        },
        "id": "xQQqE3DGSkC3",
        "outputId": "2e11a45f-31dc-422a-bf89-d26b5aaf7c34"
      },
      "outputs": [],
      "source": [
        "class ImageDataset(Dataset):\n",
        "    def __init__(self, csv_path, videos_folder, transform=None):\n",
        "        self.data = pd.read_csv(csv_path)\n",
        "        self.videos_folder = videos_folder\n",
        "        self.transform = transform  # Any image transformations (e.g., augmentations)\n",
        "\n",
        "    def __len__(self):\n",
        "        return len(self.data)\n",
        "\n",
        "    def __getitem__(self, idx):\n",
        "        row = self.data.iloc[idx]\n",
        "\n",
        "        img_path = os.path.join(\n",
        "            self.videos_folder, f\"{str(int(row['id'])).zfill(5)}.jpg\"\n",
        "        )\n",
        "        image = Image.open(img_path).convert(\"RGB\")\n",
        "\n",
        "        # Get labels or features from CSV\n",
        "        label = row[\"label\"]\n",
        "\n",
        "        # Apply transformations\n",
        "        if self.transform:\n",
        "            image = self.transform(image)\n",
        "\n",
        "        return image, torch.tensor(label)  # Convert label to tensor\n",
        "\n",
        "\n",
        "transform = transforms.Compose(\n",
        "    [\n",
        "        transforms.Resize((224, 224)),  # Resize to a standard size\n",
        "        transforms.ToTensor(),  # Convert to PyTorch Tensor\n",
        "    ]\n",
        ")\n",
        "\n",
        "dataset = ImageDataset(train_csv_path, train_videos_folder, transform=transform)\n",
        "\n",
        "image, label = dataset[0]\n",
        "print(image.shape, label)"
      ]
    },
    {
      "cell_type": "code",
      "execution_count": null,
      "metadata": {},
      "outputs": [],
      "source": [
        "dataloader = DataLoader(dataset, shuffle=True)"
      ]
    }
  ],
  "metadata": {
    "colab": {
      "provenance": []
    },
    "kernelspec": {
      "display_name": "Python 3",
      "name": "python3"
    },
    "language_info": {
      "name": "python"
    }
  },
  "nbformat": 4,
  "nbformat_minor": 0
}
